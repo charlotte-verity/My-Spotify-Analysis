{
 "cells": [
  {
   "cell_type": "code",
   "execution_count": 3,
   "id": "d99a1495",
   "metadata": {},
   "outputs": [],
   "source": [
    "# pip install -r requirements.txt\n",
    "import numpy as np\n",
    "import pandas as pd\n",
    "import os"
   ]
  },
  {
   "cell_type": "code",
   "execution_count": 16,
   "id": "51479c85",
   "metadata": {},
   "outputs": [
    {
     "data": {
      "text/plain": [
       "['Streaming_History_Audio_2025_13.json',\n",
       " 'Streaming_History_Audio_2024-2025_12.json',\n",
       " 'Streaming_History_Audio_2025_14.json']"
      ]
     },
     "execution_count": 16,
     "metadata": {},
     "output_type": "execute_result"
    }
   ],
   "source": [
    "streaming_path = './streaming_history_files'\n",
    "streaming_files = os.listdir(streaming_path)\n",
    "audio_files = [x for x in streaming_files if \"Audio\" in x]\n",
    "audio_files_2025 = [x for x in audio_files if \"2025\" in x]\n",
    "audio_files_2025"
   ]
  },
  {
   "cell_type": "code",
   "execution_count": null,
   "id": "95345efe",
   "metadata": {},
   "outputs": [],
   "source": []
  }
 ],
 "metadata": {
  "kernelspec": {
   "display_name": "base",
   "language": "python",
   "name": "python3"
  },
  "language_info": {
   "codemirror_mode": {
    "name": "ipython",
    "version": 3
   },
   "file_extension": ".py",
   "mimetype": "text/x-python",
   "name": "python",
   "nbconvert_exporter": "python",
   "pygments_lexer": "ipython3",
   "version": "3.8.3"
  }
 },
 "nbformat": 4,
 "nbformat_minor": 5
}
