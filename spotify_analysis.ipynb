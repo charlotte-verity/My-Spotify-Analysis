{
 "cells": [
  {
   "cell_type": "code",
   "execution_count": 1,
   "id": "d99a1495",
   "metadata": {},
   "outputs": [
    {
     "name": "stderr",
     "output_type": "stream",
     "text": [
      "/Users/charlotteverity/opt/anaconda3/lib/python3.8/site-packages/pandas/core/computation/expressions.py:20: UserWarning: Pandas requires version '2.7.3' or newer of 'numexpr' (version '2.7.1' currently installed).\n",
      "  from pandas.core.computation.check import NUMEXPR_INSTALLED\n"
     ]
    }
   ],
   "source": [
    "# pip install -r requirements.txt\n",
    "import numpy as np\n",
    "import pandas as pd\n",
    "import os"
   ]
  },
  {
   "cell_type": "code",
   "execution_count": 2,
   "id": "51479c85",
   "metadata": {},
   "outputs": [
    {
     "data": {
      "text/plain": [
       "['Streaming_History_Audio_2025_13.json',\n",
       " 'Streaming_History_Audio_2024-2025_12.json',\n",
       " 'Streaming_History_Audio_2025_14.json']"
      ]
     },
     "execution_count": 2,
     "metadata": {},
     "output_type": "execute_result"
    }
   ],
   "source": [
    "streaming_pre = './streaming_history_files'\n",
    "streaming_paths = os.listdir(streaming_pre)\n",
    "audio_paths = [x for x in streaming_paths if \"Audio\" in x]\n",
    "audio_2025_paths = [x for x in audio_paths if \"2025\" in x]\n",
    "audio_2025_paths"
   ]
  },
  {
   "cell_type": "markdown",
   "id": "dffd3aa2",
   "metadata": {},
   "source": [
    "## Helper Funcs"
   ]
  },
  {
   "cell_type": "code",
   "execution_count": 3,
   "id": "5665e87a",
   "metadata": {},
   "outputs": [],
   "source": [
    "# Takes in list of data file paths of streaming data jsons and date limits\n",
    "def load_streaming_files(paths, min_date = None, max_date = None):\n",
    "  streaming_data = pd.DataFrame()\n",
    "  for p in sorted(paths):\n",
    "    df_temp = pd.read_json(streaming_pre+\"/\"+p)\n",
    "    df_temp[\"stream_date\"] = pd.to_datetime(df_temp[\"ts\"]).dt.date\n",
    "    streaming_data = pd.concat([streaming_data, df_temp])\n",
    "  if(min_date is not None):\n",
    "    streaming_data = streaming_data[(streaming_data[\"stream_date\"]>=pd.to_datetime(min_date).date())]\n",
    "  if(max_date is not None):\n",
    "    streaming_data = streaming_data[(streaming_data[\"stream_date\"]<=pd.to_datetime(max_date).date())]\n",
    "  streaming_data = streaming_data[~streaming_data[\"master_metadata_track_name\"].isna()]\n",
    "  return streaming_data\n",
    "\n",
    "# Keep necessary, non-PI columns\n",
    "def clean_streaming_data(streaming_data):\n",
    "  streaming_data = streaming_data[['platform', 'ms_played', 'master_metadata_track_name', 'master_metadata_album_artist_name', \n",
    "                               'master_metadata_album_album_name', 'spotify_track_uri', 'reason_start', 'reason_end', \n",
    "                               'skipped', 'stream_date']].copy()\n",
    "  streaming_data[\"seconds\"] = streaming_data[\"ms_played\"]/1000\n",
    "  streaming_data[\"minutes\"] = streaming_data[\"seconds\"]/60\n",
    "  return streaming_data\n",
    "\n",
    "def get_summary_stats(streaming_data):\n",
    "  minutes_played = streaming_data[\"minutes\"].sum()\n",
    "  songs_played = streaming_data[\"spotify_track_uri\"].count()\n",
    "  unique_songs_played = streaming_data.groupby([\"master_metadata_track_name\", \"master_metadata_album_artist_name\"]).ngroups\n",
    "  artists_played = streaming_data[\"master_metadata_album_artist_name\"].nunique()\n",
    "  print(\"Total minutes played: \"+str(minutes_played))\n",
    "  print(\"Total songs played: \"+str(songs_played))\n",
    "  print(\"Unique songs played: \"+str(unique_songs_played))\n",
    "  print(\"Unique artists played: \"+str(artists_played))\n",
    "\n",
    "def get_most_played_songs(streaming_data):\n",
    "  most_played_songs = streaming_data.groupby([\"master_metadata_track_name\", \"master_metadata_album_artist_name\"])[\"master_metadata_track_name\"]\\\n",
    "                                    .count().reset_index(name=\"plays\").sort_values(\"plays\", ascending=False)\n",
    "  print(\"Most played songs: \")\n",
    "  display(most_played_songs.head(5))\n",
    "  return most_played_songs\n",
    "\n",
    "def get_longest_played_songs(streaming_data):\n",
    "  longest_played_songs = streaming_data.groupby([\"master_metadata_track_name\", \"master_metadata_album_artist_name\"])[\"minutes\"]\\\n",
    "                         .sum().reset_index(name=\"minutes\").sort_values(\"minutes\", ascending=False)\n",
    "  print(\"Longest played songs: \")\n",
    "  display(longest_played_songs.head(5))\n",
    "  return longest_played_songs\n",
    "\n",
    "def get_most_played_artists(streaming_data):\n",
    "  most_played_artists = streaming_data.groupby([\"master_metadata_album_artist_name\"])[\"master_metadata_track_name\"]\\\n",
    "                         .count().reset_index(name=\"plays\").sort_values(\"plays\", ascending=False)\n",
    "  print(\"Most played artists: \")\n",
    "  display(most_played_artists.head(5))\n",
    "  return most_played_artists\n",
    "\n",
    "def get_longest_played_artists(streaming_data):\n",
    "  longest_played_artists = streaming_data.groupby([\"master_metadata_album_artist_name\"])[\"minutes\"]\\\n",
    "                          .sum().reset_index(name=\"minutes\").sort_values(\"minutes\", ascending=False)\n",
    "  print(\"Longest played artists: \")\n",
    "  display(longest_played_artists.head(5))\n",
    "  return longest_played_artists\n",
    "\n",
    "  \n"
   ]
  },
  {
   "cell_type": "markdown",
   "id": "7a469857",
   "metadata": {},
   "source": [
    "## 2025 Streams"
   ]
  },
  {
   "cell_type": "code",
   "execution_count": 4,
   "id": "05dfc369",
   "metadata": {},
   "outputs": [
    {
     "name": "stdout",
     "output_type": "stream",
     "text": [
      "2025-01-01\n",
      "2025-10-09\n",
      "(22921, 12)\n"
     ]
    }
   ],
   "source": [
    "audio_2025_df = load_streaming_files(audio_2025_paths, \"2025-01-01\", \"2025-12-31\")\n",
    "audio_2025_df = clean_streaming_data(audio_2025_df)\n",
    "print(audio_2025_df[\"stream_date\"].min())\n",
    "print(audio_2025_df[\"stream_date\"].max())\n",
    "print(audio_2025_df.shape)"
   ]
  },
  {
   "cell_type": "code",
   "execution_count": 5,
   "id": "fa390f2c",
   "metadata": {},
   "outputs": [
    {
     "name": "stdout",
     "output_type": "stream",
     "text": [
      "Total minutes played: 38921.6226\n",
      "Total songs played: 22921\n",
      "Unique songs played: 5178\n",
      "Unique artists played: 1799\n"
     ]
    }
   ],
   "source": [
    "get_summary_stats(audio_2025_df)"
   ]
  },
  {
   "cell_type": "code",
   "execution_count": 6,
   "id": "af106f3f",
   "metadata": {},
   "outputs": [
    {
     "name": "stdout",
     "output_type": "stream",
     "text": [
      "Most played songs: \n"
     ]
    },
    {
     "data": {
      "text/html": [
       "<div>\n",
       "<style scoped>\n",
       "    .dataframe tbody tr th:only-of-type {\n",
       "        vertical-align: middle;\n",
       "    }\n",
       "\n",
       "    .dataframe tbody tr th {\n",
       "        vertical-align: top;\n",
       "    }\n",
       "\n",
       "    .dataframe thead th {\n",
       "        text-align: right;\n",
       "    }\n",
       "</style>\n",
       "<table border=\"1\" class=\"dataframe\">\n",
       "  <thead>\n",
       "    <tr style=\"text-align: right;\">\n",
       "      <th></th>\n",
       "      <th>master_metadata_track_name</th>\n",
       "      <th>master_metadata_album_artist_name</th>\n",
       "      <th>plays</th>\n",
       "    </tr>\n",
       "  </thead>\n",
       "  <tbody>\n",
       "    <tr>\n",
       "      <th>2858</th>\n",
       "      <td>Nettles</td>\n",
       "      <td>Ethel Cain</td>\n",
       "      <td>104</td>\n",
       "    </tr>\n",
       "    <tr>\n",
       "      <th>2108</th>\n",
       "      <td>Illegal</td>\n",
       "      <td>PinkPantheress</td>\n",
       "      <td>89</td>\n",
       "    </tr>\n",
       "    <tr>\n",
       "      <th>4322</th>\n",
       "      <td>Tonight</td>\n",
       "      <td>PinkPantheress</td>\n",
       "      <td>86</td>\n",
       "    </tr>\n",
       "    <tr>\n",
       "      <th>4152</th>\n",
       "      <td>The Edge</td>\n",
       "      <td>Sydney Ross Mitchell</td>\n",
       "      <td>81</td>\n",
       "    </tr>\n",
       "    <tr>\n",
       "      <th>5050</th>\n",
       "      <td>party 4 u</td>\n",
       "      <td>Charli xcx</td>\n",
       "      <td>79</td>\n",
       "    </tr>\n",
       "  </tbody>\n",
       "</table>\n",
       "</div>"
      ],
      "text/plain": [
       "     master_metadata_track_name master_metadata_album_artist_name  plays\n",
       "2858                    Nettles                        Ethel Cain    104\n",
       "2108                    Illegal                    PinkPantheress     89\n",
       "4322                    Tonight                    PinkPantheress     86\n",
       "4152                   The Edge              Sydney Ross Mitchell     81\n",
       "5050                  party 4 u                        Charli xcx     79"
      ]
     },
     "metadata": {},
     "output_type": "display_data"
    },
    {
     "name": "stdout",
     "output_type": "stream",
     "text": [
      "Longest played songs: \n"
     ]
    },
    {
     "data": {
      "text/html": [
       "<div>\n",
       "<style scoped>\n",
       "    .dataframe tbody tr th:only-of-type {\n",
       "        vertical-align: middle;\n",
       "    }\n",
       "\n",
       "    .dataframe tbody tr th {\n",
       "        vertical-align: top;\n",
       "    }\n",
       "\n",
       "    .dataframe thead th {\n",
       "        text-align: right;\n",
       "    }\n",
       "</style>\n",
       "<table border=\"1\" class=\"dataframe\">\n",
       "  <thead>\n",
       "    <tr style=\"text-align: right;\">\n",
       "      <th></th>\n",
       "      <th>master_metadata_track_name</th>\n",
       "      <th>master_metadata_album_artist_name</th>\n",
       "      <th>minutes</th>\n",
       "    </tr>\n",
       "  </thead>\n",
       "  <tbody>\n",
       "    <tr>\n",
       "      <th>2858</th>\n",
       "      <td>Nettles</td>\n",
       "      <td>Ethel Cain</td>\n",
       "      <td>698.383150</td>\n",
       "    </tr>\n",
       "    <tr>\n",
       "      <th>1528</th>\n",
       "      <td>Fuck Me Eyes</td>\n",
       "      <td>Ethel Cain</td>\n",
       "      <td>351.318450</td>\n",
       "    </tr>\n",
       "    <tr>\n",
       "      <th>4152</th>\n",
       "      <td>The Edge</td>\n",
       "      <td>Sydney Ross Mitchell</td>\n",
       "      <td>251.258967</td>\n",
       "    </tr>\n",
       "    <tr>\n",
       "      <th>5050</th>\n",
       "      <td>party 4 u</td>\n",
       "      <td>Charli xcx</td>\n",
       "      <td>245.392267</td>\n",
       "    </tr>\n",
       "    <tr>\n",
       "      <th>3974</th>\n",
       "      <td>Sunshine Baby</td>\n",
       "      <td>The Japanese House</td>\n",
       "      <td>204.949717</td>\n",
       "    </tr>\n",
       "  </tbody>\n",
       "</table>\n",
       "</div>"
      ],
      "text/plain": [
       "     master_metadata_track_name master_metadata_album_artist_name     minutes\n",
       "2858                    Nettles                        Ethel Cain  698.383150\n",
       "1528               Fuck Me Eyes                        Ethel Cain  351.318450\n",
       "4152                   The Edge              Sydney Ross Mitchell  251.258967\n",
       "5050                  party 4 u                        Charli xcx  245.392267\n",
       "3974              Sunshine Baby                The Japanese House  204.949717"
      ]
     },
     "metadata": {},
     "output_type": "display_data"
    },
    {
     "name": "stdout",
     "output_type": "stream",
     "text": [
      "Most played artists: \n"
     ]
    },
    {
     "data": {
      "text/html": [
       "<div>\n",
       "<style scoped>\n",
       "    .dataframe tbody tr th:only-of-type {\n",
       "        vertical-align: middle;\n",
       "    }\n",
       "\n",
       "    .dataframe tbody tr th {\n",
       "        vertical-align: top;\n",
       "    }\n",
       "\n",
       "    .dataframe thead th {\n",
       "        text-align: right;\n",
       "    }\n",
       "</style>\n",
       "<table border=\"1\" class=\"dataframe\">\n",
       "  <thead>\n",
       "    <tr style=\"text-align: right;\">\n",
       "      <th></th>\n",
       "      <th>master_metadata_album_artist_name</th>\n",
       "      <th>plays</th>\n",
       "    </tr>\n",
       "  </thead>\n",
       "  <tbody>\n",
       "    <tr>\n",
       "      <th>303</th>\n",
       "      <td>Charli xcx</td>\n",
       "      <td>728</td>\n",
       "    </tr>\n",
       "    <tr>\n",
       "      <th>1720</th>\n",
       "      <td>Zara Larsson</td>\n",
       "      <td>641</td>\n",
       "    </tr>\n",
       "    <tr>\n",
       "      <th>516</th>\n",
       "      <td>Ethel Cain</td>\n",
       "      <td>586</td>\n",
       "    </tr>\n",
       "    <tr>\n",
       "      <th>334</th>\n",
       "      <td>Clairo</td>\n",
       "      <td>584</td>\n",
       "    </tr>\n",
       "    <tr>\n",
       "      <th>1247</th>\n",
       "      <td>PinkPantheress</td>\n",
       "      <td>544</td>\n",
       "    </tr>\n",
       "  </tbody>\n",
       "</table>\n",
       "</div>"
      ],
      "text/plain": [
       "     master_metadata_album_artist_name  plays\n",
       "303                         Charli xcx    728\n",
       "1720                      Zara Larsson    641\n",
       "516                         Ethel Cain    586\n",
       "334                             Clairo    584\n",
       "1247                    PinkPantheress    544"
      ]
     },
     "metadata": {},
     "output_type": "display_data"
    },
    {
     "name": "stdout",
     "output_type": "stream",
     "text": [
      "Longest played artists: \n"
     ]
    },
    {
     "data": {
      "text/html": [
       "<div>\n",
       "<style scoped>\n",
       "    .dataframe tbody tr th:only-of-type {\n",
       "        vertical-align: middle;\n",
       "    }\n",
       "\n",
       "    .dataframe tbody tr th {\n",
       "        vertical-align: top;\n",
       "    }\n",
       "\n",
       "    .dataframe thead th {\n",
       "        text-align: right;\n",
       "    }\n",
       "</style>\n",
       "<table border=\"1\" class=\"dataframe\">\n",
       "  <thead>\n",
       "    <tr style=\"text-align: right;\">\n",
       "      <th></th>\n",
       "      <th>master_metadata_album_artist_name</th>\n",
       "      <th>minutes</th>\n",
       "    </tr>\n",
       "  </thead>\n",
       "  <tbody>\n",
       "    <tr>\n",
       "      <th>516</th>\n",
       "      <td>Ethel Cain</td>\n",
       "      <td>2103.026683</td>\n",
       "    </tr>\n",
       "    <tr>\n",
       "      <th>303</th>\n",
       "      <td>Charli xcx</td>\n",
       "      <td>1342.694650</td>\n",
       "    </tr>\n",
       "    <tr>\n",
       "      <th>334</th>\n",
       "      <td>Clairo</td>\n",
       "      <td>1245.126350</td>\n",
       "    </tr>\n",
       "    <tr>\n",
       "      <th>1720</th>\n",
       "      <td>Zara Larsson</td>\n",
       "      <td>1208.443650</td>\n",
       "    </tr>\n",
       "    <tr>\n",
       "      <th>1543</th>\n",
       "      <td>The Marías</td>\n",
       "      <td>1066.552733</td>\n",
       "    </tr>\n",
       "  </tbody>\n",
       "</table>\n",
       "</div>"
      ],
      "text/plain": [
       "     master_metadata_album_artist_name      minutes\n",
       "516                         Ethel Cain  2103.026683\n",
       "303                         Charli xcx  1342.694650\n",
       "334                             Clairo  1245.126350\n",
       "1720                      Zara Larsson  1208.443650\n",
       "1543                        The Marías  1066.552733"
      ]
     },
     "metadata": {},
     "output_type": "display_data"
    }
   ],
   "source": [
    "most_played_songs_2025 = get_most_played_songs(audio_2025_df)\n",
    "longest_played_songs_2025 = get_longest_played_songs(audio_2025_df)\n",
    "most_played_artists_2025 = get_most_played_artists(audio_2025_df)\n",
    "longest_played_artists_2025 = get_longest_played_artists(audio_2025_df)"
   ]
  },
  {
   "cell_type": "markdown",
   "id": "16c74c54",
   "metadata": {},
   "source": [
    "## All-Time Streaming"
   ]
  },
  {
   "cell_type": "code",
   "execution_count": 7,
   "id": "3e564367",
   "metadata": {},
   "outputs": [
    {
     "name": "stdout",
     "output_type": "stream",
     "text": [
      "2016-06-21\n",
      "2025-10-09\n",
      "(222973, 12)\n"
     ]
    }
   ],
   "source": [
    "audio_all_df = load_streaming_files(audio_paths)\n",
    "audio_all_df = clean_streaming_data(audio_all_df)\n",
    "print(audio_all_df[\"stream_date\"].min())\n",
    "print(audio_all_df[\"stream_date\"].max())\n",
    "print(audio_all_df.shape)"
   ]
  },
  {
   "cell_type": "code",
   "execution_count": 8,
   "id": "d46612ce",
   "metadata": {},
   "outputs": [
    {
     "name": "stdout",
     "output_type": "stream",
     "text": [
      "Most played songs: \n"
     ]
    },
    {
     "data": {
      "text/html": [
       "<div>\n",
       "<style scoped>\n",
       "    .dataframe tbody tr th:only-of-type {\n",
       "        vertical-align: middle;\n",
       "    }\n",
       "\n",
       "    .dataframe tbody tr th {\n",
       "        vertical-align: top;\n",
       "    }\n",
       "\n",
       "    .dataframe thead th {\n",
       "        text-align: right;\n",
       "    }\n",
       "</style>\n",
       "<table border=\"1\" class=\"dataframe\">\n",
       "  <thead>\n",
       "    <tr style=\"text-align: right;\">\n",
       "      <th></th>\n",
       "      <th>master_metadata_track_name</th>\n",
       "      <th>master_metadata_album_artist_name</th>\n",
       "      <th>plays</th>\n",
       "    </tr>\n",
       "  </thead>\n",
       "  <tbody>\n",
       "    <tr>\n",
       "      <th>16266</th>\n",
       "      <td>Say It</td>\n",
       "      <td>Maggie Rogers</td>\n",
       "      <td>530</td>\n",
       "    </tr>\n",
       "    <tr>\n",
       "      <th>714</th>\n",
       "      <td>Alaska</td>\n",
       "      <td>Maggie Rogers</td>\n",
       "      <td>527</td>\n",
       "    </tr>\n",
       "    <tr>\n",
       "      <th>11510</th>\n",
       "      <td>Love You For A Long Time</td>\n",
       "      <td>Maggie Rogers</td>\n",
       "      <td>496</td>\n",
       "    </tr>\n",
       "    <tr>\n",
       "      <th>13669</th>\n",
       "      <td>Ode to a Conversation Stuck in Your Throat</td>\n",
       "      <td>Del Water Gap</td>\n",
       "      <td>466</td>\n",
       "    </tr>\n",
       "    <tr>\n",
       "      <th>1047</th>\n",
       "      <td>American Teenager</td>\n",
       "      <td>Ethel Cain</td>\n",
       "      <td>443</td>\n",
       "    </tr>\n",
       "  </tbody>\n",
       "</table>\n",
       "</div>"
      ],
      "text/plain": [
       "                       master_metadata_track_name  \\\n",
       "16266                                      Say It   \n",
       "714                                        Alaska   \n",
       "11510                    Love You For A Long Time   \n",
       "13669  Ode to a Conversation Stuck in Your Throat   \n",
       "1047                            American Teenager   \n",
       "\n",
       "      master_metadata_album_artist_name  plays  \n",
       "16266                     Maggie Rogers    530  \n",
       "714                       Maggie Rogers    527  \n",
       "11510                     Maggie Rogers    496  \n",
       "13669                     Del Water Gap    466  \n",
       "1047                         Ethel Cain    443  "
      ]
     },
     "metadata": {},
     "output_type": "display_data"
    },
    {
     "name": "stdout",
     "output_type": "stream",
     "text": [
      "Longest played songs: \n"
     ]
    },
    {
     "data": {
      "text/html": [
       "<div>\n",
       "<style scoped>\n",
       "    .dataframe tbody tr th:only-of-type {\n",
       "        vertical-align: middle;\n",
       "    }\n",
       "\n",
       "    .dataframe tbody tr th {\n",
       "        vertical-align: top;\n",
       "    }\n",
       "\n",
       "    .dataframe thead th {\n",
       "        text-align: right;\n",
       "    }\n",
       "</style>\n",
       "<table border=\"1\" class=\"dataframe\">\n",
       "  <thead>\n",
       "    <tr style=\"text-align: right;\">\n",
       "      <th></th>\n",
       "      <th>master_metadata_track_name</th>\n",
       "      <th>master_metadata_album_artist_name</th>\n",
       "      <th>minutes</th>\n",
       "    </tr>\n",
       "  </thead>\n",
       "  <tbody>\n",
       "    <tr>\n",
       "      <th>16266</th>\n",
       "      <td>Say It</td>\n",
       "      <td>Maggie Rogers</td>\n",
       "      <td>1581.138767</td>\n",
       "    </tr>\n",
       "    <tr>\n",
       "      <th>5271</th>\n",
       "      <td>Dreams - 2004 Remaster</td>\n",
       "      <td>Fleetwood Mac</td>\n",
       "      <td>1348.760500</td>\n",
       "    </tr>\n",
       "    <tr>\n",
       "      <th>11510</th>\n",
       "      <td>Love You For A Long Time</td>\n",
       "      <td>Maggie Rogers</td>\n",
       "      <td>1335.833717</td>\n",
       "    </tr>\n",
       "    <tr>\n",
       "      <th>2900</th>\n",
       "      <td>Butterflies</td>\n",
       "      <td>Kacey Musgraves</td>\n",
       "      <td>1268.451867</td>\n",
       "    </tr>\n",
       "    <tr>\n",
       "      <th>10221</th>\n",
       "      <td>Kill The Lights (with Nile Rodgers) - Audien R...</td>\n",
       "      <td>Alex Newell</td>\n",
       "      <td>1174.764917</td>\n",
       "    </tr>\n",
       "  </tbody>\n",
       "</table>\n",
       "</div>"
      ],
      "text/plain": [
       "                              master_metadata_track_name  \\\n",
       "16266                                             Say It   \n",
       "5271                              Dreams - 2004 Remaster   \n",
       "11510                           Love You For A Long Time   \n",
       "2900                                         Butterflies   \n",
       "10221  Kill The Lights (with Nile Rodgers) - Audien R...   \n",
       "\n",
       "      master_metadata_album_artist_name      minutes  \n",
       "16266                     Maggie Rogers  1581.138767  \n",
       "5271                      Fleetwood Mac  1348.760500  \n",
       "11510                     Maggie Rogers  1335.833717  \n",
       "2900                    Kacey Musgraves  1268.451867  \n",
       "10221                       Alex Newell  1174.764917  "
      ]
     },
     "metadata": {},
     "output_type": "display_data"
    },
    {
     "name": "stdout",
     "output_type": "stream",
     "text": [
      "Most played artists: \n"
     ]
    },
    {
     "data": {
      "text/html": [
       "<div>\n",
       "<style scoped>\n",
       "    .dataframe tbody tr th:only-of-type {\n",
       "        vertical-align: middle;\n",
       "    }\n",
       "\n",
       "    .dataframe tbody tr th {\n",
       "        vertical-align: top;\n",
       "    }\n",
       "\n",
       "    .dataframe thead th {\n",
       "        text-align: right;\n",
       "    }\n",
       "</style>\n",
       "<table border=\"1\" class=\"dataframe\">\n",
       "  <thead>\n",
       "    <tr style=\"text-align: right;\">\n",
       "      <th></th>\n",
       "      <th>master_metadata_album_artist_name</th>\n",
       "      <th>plays</th>\n",
       "    </tr>\n",
       "  </thead>\n",
       "  <tbody>\n",
       "    <tr>\n",
       "      <th>376</th>\n",
       "      <td>Ariana Grande</td>\n",
       "      <td>6638</td>\n",
       "    </tr>\n",
       "    <tr>\n",
       "      <th>3611</th>\n",
       "      <td>Maggie Rogers</td>\n",
       "      <td>5389</td>\n",
       "    </tr>\n",
       "    <tr>\n",
       "      <th>3200</th>\n",
       "      <td>Lana Del Rey</td>\n",
       "      <td>4450</td>\n",
       "    </tr>\n",
       "    <tr>\n",
       "      <th>2368</th>\n",
       "      <td>Hozier</td>\n",
       "      <td>4053</td>\n",
       "    </tr>\n",
       "    <tr>\n",
       "      <th>2916</th>\n",
       "      <td>Kacey Musgraves</td>\n",
       "      <td>3910</td>\n",
       "    </tr>\n",
       "  </tbody>\n",
       "</table>\n",
       "</div>"
      ],
      "text/plain": [
       "     master_metadata_album_artist_name  plays\n",
       "376                      Ariana Grande   6638\n",
       "3611                     Maggie Rogers   5389\n",
       "3200                      Lana Del Rey   4450\n",
       "2368                            Hozier   4053\n",
       "2916                   Kacey Musgraves   3910"
      ]
     },
     "metadata": {},
     "output_type": "display_data"
    },
    {
     "name": "stdout",
     "output_type": "stream",
     "text": [
      "Longest played artists: \n"
     ]
    },
    {
     "data": {
      "text/html": [
       "<div>\n",
       "<style scoped>\n",
       "    .dataframe tbody tr th:only-of-type {\n",
       "        vertical-align: middle;\n",
       "    }\n",
       "\n",
       "    .dataframe tbody tr th {\n",
       "        vertical-align: top;\n",
       "    }\n",
       "\n",
       "    .dataframe thead th {\n",
       "        text-align: right;\n",
       "    }\n",
       "</style>\n",
       "<table border=\"1\" class=\"dataframe\">\n",
       "  <thead>\n",
       "    <tr style=\"text-align: right;\">\n",
       "      <th></th>\n",
       "      <th>master_metadata_album_artist_name</th>\n",
       "      <th>minutes</th>\n",
       "    </tr>\n",
       "  </thead>\n",
       "  <tbody>\n",
       "    <tr>\n",
       "      <th>376</th>\n",
       "      <td>Ariana Grande</td>\n",
       "      <td>16299.868017</td>\n",
       "    </tr>\n",
       "    <tr>\n",
       "      <th>3611</th>\n",
       "      <td>Maggie Rogers</td>\n",
       "      <td>15136.073567</td>\n",
       "    </tr>\n",
       "    <tr>\n",
       "      <th>3200</th>\n",
       "      <td>Lana Del Rey</td>\n",
       "      <td>13000.098050</td>\n",
       "    </tr>\n",
       "    <tr>\n",
       "      <th>1790</th>\n",
       "      <td>Ethel Cain</td>\n",
       "      <td>11871.254400</td>\n",
       "    </tr>\n",
       "    <tr>\n",
       "      <th>2368</th>\n",
       "      <td>Hozier</td>\n",
       "      <td>10525.943483</td>\n",
       "    </tr>\n",
       "  </tbody>\n",
       "</table>\n",
       "</div>"
      ],
      "text/plain": [
       "     master_metadata_album_artist_name       minutes\n",
       "376                      Ariana Grande  16299.868017\n",
       "3611                     Maggie Rogers  15136.073567\n",
       "3200                      Lana Del Rey  13000.098050\n",
       "1790                        Ethel Cain  11871.254400\n",
       "2368                            Hozier  10525.943483"
      ]
     },
     "metadata": {},
     "output_type": "display_data"
    }
   ],
   "source": [
    "most_played_songs = get_most_played_songs(audio_all_df)\n",
    "longest_played_songs = get_longest_played_songs(audio_all_df)\n",
    "most_played_artists = get_most_played_artists(audio_all_df)\n",
    "longest_played_artists = get_longest_played_artists(audio_all_df)"
   ]
  },
  {
   "cell_type": "code",
   "execution_count": null,
   "id": "e0d0dff0",
   "metadata": {},
   "outputs": [],
   "source": []
  }
 ],
 "metadata": {
  "kernelspec": {
   "display_name": "base",
   "language": "python",
   "name": "python3"
  },
  "language_info": {
   "codemirror_mode": {
    "name": "ipython",
    "version": 3
   },
   "file_extension": ".py",
   "mimetype": "text/x-python",
   "name": "python",
   "nbconvert_exporter": "python",
   "pygments_lexer": "ipython3",
   "version": "3.8.3"
  }
 },
 "nbformat": 4,
 "nbformat_minor": 5
}
