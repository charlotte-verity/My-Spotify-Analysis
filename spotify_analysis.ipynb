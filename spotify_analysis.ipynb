{
 "cells": [
  {
   "cell_type": "code",
   "execution_count": 3,
   "id": "d99a1495",
   "metadata": {},
   "outputs": [],
   "source": [
    "# pip install -r requirements.txt\n",
    "import numpy as np\n",
    "import pandas as pd\n",
    "import os"
   ]
  },
  {
   "cell_type": "code",
   "execution_count": 17,
   "id": "51479c85",
   "metadata": {},
   "outputs": [
    {
     "data": {
      "text/plain": [
       "['Streaming_History_Audio_2025_13.json',\n",
       " 'Streaming_History_Audio_2024-2025_12.json',\n",
       " 'Streaming_History_Audio_2025_14.json']"
      ]
     },
     "execution_count": 17,
     "metadata": {},
     "output_type": "execute_result"
    }
   ],
   "source": [
    "streaming_pre = './streaming_history_files'\n",
    "streaming_paths = os.listdir(streaming_pre)\n",
    "audio_paths = [x for x in streaming_paths if \"Audio\" in x]\n",
    "audio_2025_paths = [x for x in audio_paths if \"2025\" in x]\n",
    "audio_2025_paths"
   ]
  },
  {
   "cell_type": "markdown",
   "id": "7a469857",
   "metadata": {},
   "source": [
    "## 2025 Streams"
   ]
  },
  {
   "cell_type": "code",
   "execution_count": 104,
   "id": "95345efe",
   "metadata": {},
   "outputs": [
    {
     "name": "stdout",
     "output_type": "stream",
     "text": [
      "2025-01-01\n",
      "2025-10-09\n",
      "(22921, 24)\n"
     ]
    }
   ],
   "source": [
    "audio_2025_df_og = pd.DataFrame()\n",
    "for f in sorted(audio_2025_paths):\n",
    "  df_temp = pd.read_json(streaming_pre+\"/\"+f)\n",
    "  df_temp[\"stream_date\"] = pd.to_datetime(df_temp[\"ts\"]).dt.date\n",
    "  audio_2025_df_og = pd.concat([audio_2025_df_og, df_temp])\n",
    "audio_2025_df_og = audio_2025_df_og[(audio_2025_df_og[\"stream_date\"]>=pd.to_datetime(\"2025-01-01\").date()) & \n",
    "                              (audio_2025_df_og[\"stream_date\"]<=pd.to_datetime(\"2025-12-31\").date())]\n",
    "audio_2025_df_og = audio_2025_df_og[~audio_2025_df_og[\"master_metadata_track_name\"].isna()]\n",
    "print(audio_2025_df_og[\"stream_date\"].min())\n",
    "print(audio_2025_df_og[\"stream_date\"].max())\n",
    "print(audio_2025_df_og.shape)\n",
    "\n"
   ]
  },
  {
   "cell_type": "code",
   "execution_count": 126,
   "id": "60c443a8",
   "metadata": {},
   "outputs": [
    {
     "name": "stderr",
     "output_type": "stream",
     "text": [
      "<ipython-input-126-0ea1d0538d8e>:5: SettingWithCopyWarning: \n",
      "A value is trying to be set on a copy of a slice from a DataFrame.\n",
      "Try using .loc[row_indexer,col_indexer] = value instead\n",
      "\n",
      "See the caveats in the documentation: https://pandas.pydata.org/pandas-docs/stable/user_guide/indexing.html#returning-a-view-versus-a-copy\n",
      "  audio_2025_df[\"seconds\"] = audio_2025_df[\"ms_played\"]/1000\n",
      "<ipython-input-126-0ea1d0538d8e>:6: SettingWithCopyWarning: \n",
      "A value is trying to be set on a copy of a slice from a DataFrame.\n",
      "Try using .loc[row_indexer,col_indexer] = value instead\n",
      "\n",
      "See the caveats in the documentation: https://pandas.pydata.org/pandas-docs/stable/user_guide/indexing.html#returning-a-view-versus-a-copy\n",
      "  audio_2025_df[\"minutes\"] = audio_2025_df[\"seconds\"]/60\n"
     ]
    },
    {
     "data": {
      "text/html": [
       "<div>\n",
       "<style scoped>\n",
       "    .dataframe tbody tr th:only-of-type {\n",
       "        vertical-align: middle;\n",
       "    }\n",
       "\n",
       "    .dataframe tbody tr th {\n",
       "        vertical-align: top;\n",
       "    }\n",
       "\n",
       "    .dataframe thead th {\n",
       "        text-align: right;\n",
       "    }\n",
       "</style>\n",
       "<table border=\"1\" class=\"dataframe\">\n",
       "  <thead>\n",
       "    <tr style=\"text-align: right;\">\n",
       "      <th></th>\n",
       "      <th>platform</th>\n",
       "      <th>ms_played</th>\n",
       "      <th>master_metadata_track_name</th>\n",
       "      <th>master_metadata_album_artist_name</th>\n",
       "      <th>master_metadata_album_album_name</th>\n",
       "      <th>spotify_track_uri</th>\n",
       "      <th>reason_start</th>\n",
       "      <th>reason_end</th>\n",
       "      <th>skipped</th>\n",
       "      <th>stream_date</th>\n",
       "      <th>seconds</th>\n",
       "      <th>minutes</th>\n",
       "    </tr>\n",
       "  </thead>\n",
       "  <tbody>\n",
       "    <tr>\n",
       "      <th>10278</th>\n",
       "      <td>ios</td>\n",
       "      <td>219813</td>\n",
       "      <td>Sunshine Baby</td>\n",
       "      <td>The Japanese House</td>\n",
       "      <td>In the End It Always Does</td>\n",
       "      <td>spotify:track:7ihVeKd4RjiZ3y12nDhPZO</td>\n",
       "      <td>trackdone</td>\n",
       "      <td>trackdone</td>\n",
       "      <td>False</td>\n",
       "      <td>2025-01-01</td>\n",
       "      <td>219.813</td>\n",
       "      <td>3.663550</td>\n",
       "    </tr>\n",
       "    <tr>\n",
       "      <th>10279</th>\n",
       "      <td>ios</td>\n",
       "      <td>168390</td>\n",
       "      <td>How Long</td>\n",
       "      <td>Yana</td>\n",
       "      <td>How Long</td>\n",
       "      <td>spotify:track:4Nj7olHNFww7pswTjw5K69</td>\n",
       "      <td>trackdone</td>\n",
       "      <td>fwdbtn</td>\n",
       "      <td>True</td>\n",
       "      <td>2025-01-01</td>\n",
       "      <td>168.390</td>\n",
       "      <td>2.806500</td>\n",
       "    </tr>\n",
       "    <tr>\n",
       "      <th>10280</th>\n",
       "      <td>ios</td>\n",
       "      <td>23120</td>\n",
       "      <td>If Now Was Then</td>\n",
       "      <td>Maggie Rogers</td>\n",
       "      <td>Don't Forget Me</td>\n",
       "      <td>spotify:track:4FQiOvG6qN55tdzvu37uUN</td>\n",
       "      <td>fwdbtn</td>\n",
       "      <td>endplay</td>\n",
       "      <td>True</td>\n",
       "      <td>2025-01-01</td>\n",
       "      <td>23.120</td>\n",
       "      <td>0.385333</td>\n",
       "    </tr>\n",
       "    <tr>\n",
       "      <th>10281</th>\n",
       "      <td>ios</td>\n",
       "      <td>267653</td>\n",
       "      <td>The Only Exception</td>\n",
       "      <td>Paramore</td>\n",
       "      <td>Brand New Eyes</td>\n",
       "      <td>spotify:track:7JIuqL4ZqkpfGKQhYlrirs</td>\n",
       "      <td>clickrow</td>\n",
       "      <td>endplay</td>\n",
       "      <td>True</td>\n",
       "      <td>2025-01-01</td>\n",
       "      <td>267.653</td>\n",
       "      <td>4.460883</td>\n",
       "    </tr>\n",
       "    <tr>\n",
       "      <th>10282</th>\n",
       "      <td>ios</td>\n",
       "      <td>261960</td>\n",
       "      <td>Decode</td>\n",
       "      <td>Paramore</td>\n",
       "      <td>Decode</td>\n",
       "      <td>spotify:track:1ZLtE9tSJdaUiIJ9YoKHQe</td>\n",
       "      <td>trackdone</td>\n",
       "      <td>trackdone</td>\n",
       "      <td>False</td>\n",
       "      <td>2025-01-01</td>\n",
       "      <td>261.960</td>\n",
       "      <td>4.366000</td>\n",
       "    </tr>\n",
       "  </tbody>\n",
       "</table>\n",
       "</div>"
      ],
      "text/plain": [
       "      platform  ms_played master_metadata_track_name  \\\n",
       "10278      ios     219813              Sunshine Baby   \n",
       "10279      ios     168390                   How Long   \n",
       "10280      ios      23120            If Now Was Then   \n",
       "10281      ios     267653         The Only Exception   \n",
       "10282      ios     261960                     Decode   \n",
       "\n",
       "      master_metadata_album_artist_name master_metadata_album_album_name  \\\n",
       "10278                The Japanese House        In the End It Always Does   \n",
       "10279                              Yana                         How Long   \n",
       "10280                     Maggie Rogers                  Don't Forget Me   \n",
       "10281                          Paramore                   Brand New Eyes   \n",
       "10282                          Paramore                           Decode   \n",
       "\n",
       "                          spotify_track_uri reason_start reason_end  skipped  \\\n",
       "10278  spotify:track:7ihVeKd4RjiZ3y12nDhPZO    trackdone  trackdone    False   \n",
       "10279  spotify:track:4Nj7olHNFww7pswTjw5K69    trackdone     fwdbtn     True   \n",
       "10280  spotify:track:4FQiOvG6qN55tdzvu37uUN       fwdbtn    endplay     True   \n",
       "10281  spotify:track:7JIuqL4ZqkpfGKQhYlrirs     clickrow    endplay     True   \n",
       "10282  spotify:track:1ZLtE9tSJdaUiIJ9YoKHQe    trackdone  trackdone    False   \n",
       "\n",
       "      stream_date  seconds   minutes  \n",
       "10278  2025-01-01  219.813  3.663550  \n",
       "10279  2025-01-01  168.390  2.806500  \n",
       "10280  2025-01-01   23.120  0.385333  \n",
       "10281  2025-01-01  267.653  4.460883  \n",
       "10282  2025-01-01  261.960  4.366000  "
      ]
     },
     "execution_count": 126,
     "metadata": {},
     "output_type": "execute_result"
    }
   ],
   "source": [
    "audio_2025_df = audio_2025_df_og.copy()\n",
    "audio_2025_df = audio_2025_df_og[['platform', 'ms_played', 'master_metadata_track_name', 'master_metadata_album_artist_name', \n",
    "                               'master_metadata_album_album_name', 'spotify_track_uri', 'reason_start', 'reason_end', \n",
    "                               'skipped', 'stream_date']]\n",
    "audio_2025_df[\"seconds\"] = audio_2025_df[\"ms_played\"]/1000\n",
    "audio_2025_df[\"minutes\"] = audio_2025_df[\"seconds\"]/60\n",
    "audio_2025_df.head()"
   ]
  },
  {
   "cell_type": "code",
   "execution_count": 127,
   "id": "fa390f2c",
   "metadata": {},
   "outputs": [
    {
     "name": "stdout",
     "output_type": "stream",
     "text": [
      "38921.6226\n",
      "22921\n",
      "5178\n"
     ]
    }
   ],
   "source": [
    "minutes_played = audio_2025_df[\"seconds\"].sum()/60\n",
    "songs_played = audio_2025_df[\"spotify_track_uri\"].count()\n",
    "unique_songs_played = audio_2025_df.groupby([\"master_metadata_track_name\", \"master_metadata_album_artist_name\"]).ngroups\n",
    "print(minutes_played)\n",
    "print(songs_played)\n",
    "print(unique_songs_played)"
   ]
  },
  {
   "cell_type": "code",
   "execution_count": 134,
   "id": "1a3da9f2",
   "metadata": {},
   "outputs": [
    {
     "name": "stdout",
     "output_type": "stream",
     "text": [
      "22921\n",
      "Most played songs: \n"
     ]
    },
    {
     "data": {
      "text/html": [
       "<div>\n",
       "<style scoped>\n",
       "    .dataframe tbody tr th:only-of-type {\n",
       "        vertical-align: middle;\n",
       "    }\n",
       "\n",
       "    .dataframe tbody tr th {\n",
       "        vertical-align: top;\n",
       "    }\n",
       "\n",
       "    .dataframe thead th {\n",
       "        text-align: right;\n",
       "    }\n",
       "</style>\n",
       "<table border=\"1\" class=\"dataframe\">\n",
       "  <thead>\n",
       "    <tr style=\"text-align: right;\">\n",
       "      <th></th>\n",
       "      <th>master_metadata_track_name</th>\n",
       "      <th>master_metadata_album_artist_name</th>\n",
       "      <th>plays</th>\n",
       "    </tr>\n",
       "  </thead>\n",
       "  <tbody>\n",
       "    <tr>\n",
       "      <th>2858</th>\n",
       "      <td>Nettles</td>\n",
       "      <td>Ethel Cain</td>\n",
       "      <td>104</td>\n",
       "    </tr>\n",
       "    <tr>\n",
       "      <th>2108</th>\n",
       "      <td>Illegal</td>\n",
       "      <td>PinkPantheress</td>\n",
       "      <td>89</td>\n",
       "    </tr>\n",
       "    <tr>\n",
       "      <th>4322</th>\n",
       "      <td>Tonight</td>\n",
       "      <td>PinkPantheress</td>\n",
       "      <td>86</td>\n",
       "    </tr>\n",
       "    <tr>\n",
       "      <th>4152</th>\n",
       "      <td>The Edge</td>\n",
       "      <td>Sydney Ross Mitchell</td>\n",
       "      <td>81</td>\n",
       "    </tr>\n",
       "    <tr>\n",
       "      <th>5050</th>\n",
       "      <td>party 4 u</td>\n",
       "      <td>Charli xcx</td>\n",
       "      <td>79</td>\n",
       "    </tr>\n",
       "  </tbody>\n",
       "</table>\n",
       "</div>"
      ],
      "text/plain": [
       "     master_metadata_track_name master_metadata_album_artist_name  plays\n",
       "2858                    Nettles                        Ethel Cain    104\n",
       "2108                    Illegal                    PinkPantheress     89\n",
       "4322                    Tonight                    PinkPantheress     86\n",
       "4152                   The Edge              Sydney Ross Mitchell     81\n",
       "5050                  party 4 u                        Charli xcx     79"
      ]
     },
     "execution_count": 134,
     "metadata": {},
     "output_type": "execute_result"
    }
   ],
   "source": [
    "most_played_songs = audio_2025_df.groupby([\"master_metadata_track_name\", \"master_metadata_album_artist_name\"])[\"master_metadata_track_name\"]\\\n",
    "                         .count().reset_index(name=\"plays\").sort_values(\"plays\", ascending=False)\n",
    "print(most_played_songs[\"plays\"].sum())\n",
    "print(\"Most played songs: \")\n",
    "most_played_songs.head(5)"
   ]
  },
  {
   "cell_type": "code",
   "execution_count": 139,
   "id": "a3e1a6e9",
   "metadata": {},
   "outputs": [
    {
     "name": "stdout",
     "output_type": "stream",
     "text": [
      "38921.622599999995\n",
      "Longest played songs: \n"
     ]
    },
    {
     "data": {
      "text/html": [
       "<div>\n",
       "<style scoped>\n",
       "    .dataframe tbody tr th:only-of-type {\n",
       "        vertical-align: middle;\n",
       "    }\n",
       "\n",
       "    .dataframe tbody tr th {\n",
       "        vertical-align: top;\n",
       "    }\n",
       "\n",
       "    .dataframe thead th {\n",
       "        text-align: right;\n",
       "    }\n",
       "</style>\n",
       "<table border=\"1\" class=\"dataframe\">\n",
       "  <thead>\n",
       "    <tr style=\"text-align: right;\">\n",
       "      <th></th>\n",
       "      <th>master_metadata_track_name</th>\n",
       "      <th>master_metadata_album_artist_name</th>\n",
       "      <th>minutes</th>\n",
       "    </tr>\n",
       "  </thead>\n",
       "  <tbody>\n",
       "    <tr>\n",
       "      <th>2858</th>\n",
       "      <td>Nettles</td>\n",
       "      <td>Ethel Cain</td>\n",
       "      <td>698.383150</td>\n",
       "    </tr>\n",
       "    <tr>\n",
       "      <th>1528</th>\n",
       "      <td>Fuck Me Eyes</td>\n",
       "      <td>Ethel Cain</td>\n",
       "      <td>351.318450</td>\n",
       "    </tr>\n",
       "    <tr>\n",
       "      <th>4152</th>\n",
       "      <td>The Edge</td>\n",
       "      <td>Sydney Ross Mitchell</td>\n",
       "      <td>251.258967</td>\n",
       "    </tr>\n",
       "    <tr>\n",
       "      <th>5050</th>\n",
       "      <td>party 4 u</td>\n",
       "      <td>Charli xcx</td>\n",
       "      <td>245.392267</td>\n",
       "    </tr>\n",
       "    <tr>\n",
       "      <th>3974</th>\n",
       "      <td>Sunshine Baby</td>\n",
       "      <td>The Japanese House</td>\n",
       "      <td>204.949717</td>\n",
       "    </tr>\n",
       "  </tbody>\n",
       "</table>\n",
       "</div>"
      ],
      "text/plain": [
       "     master_metadata_track_name master_metadata_album_artist_name     minutes\n",
       "2858                    Nettles                        Ethel Cain  698.383150\n",
       "1528               Fuck Me Eyes                        Ethel Cain  351.318450\n",
       "4152                   The Edge              Sydney Ross Mitchell  251.258967\n",
       "5050                  party 4 u                        Charli xcx  245.392267\n",
       "3974              Sunshine Baby                The Japanese House  204.949717"
      ]
     },
     "execution_count": 139,
     "metadata": {},
     "output_type": "execute_result"
    }
   ],
   "source": [
    "longest_played_songs = audio_2025_df.groupby([\"master_metadata_track_name\", \"master_metadata_album_artist_name\"])[\"minutes\"]\\\n",
    "                         .sum().reset_index(name=\"minutes\").sort_values(\"minutes\", ascending=False)\n",
    "print(longest_played_songs[\"minutes\"].sum())\n",
    "print(\"Longest played songs: \")\n",
    "longest_played_songs.head(5)"
   ]
  },
  {
   "cell_type": "code",
   "execution_count": 135,
   "id": "8256ae0f",
   "metadata": {},
   "outputs": [
    {
     "name": "stdout",
     "output_type": "stream",
     "text": [
      "22921\n",
      "Most played artists: \n"
     ]
    },
    {
     "data": {
      "text/html": [
       "<div>\n",
       "<style scoped>\n",
       "    .dataframe tbody tr th:only-of-type {\n",
       "        vertical-align: middle;\n",
       "    }\n",
       "\n",
       "    .dataframe tbody tr th {\n",
       "        vertical-align: top;\n",
       "    }\n",
       "\n",
       "    .dataframe thead th {\n",
       "        text-align: right;\n",
       "    }\n",
       "</style>\n",
       "<table border=\"1\" class=\"dataframe\">\n",
       "  <thead>\n",
       "    <tr style=\"text-align: right;\">\n",
       "      <th></th>\n",
       "      <th>master_metadata_album_artist_name</th>\n",
       "      <th>plays</th>\n",
       "    </tr>\n",
       "  </thead>\n",
       "  <tbody>\n",
       "    <tr>\n",
       "      <th>303</th>\n",
       "      <td>Charli xcx</td>\n",
       "      <td>728</td>\n",
       "    </tr>\n",
       "    <tr>\n",
       "      <th>1720</th>\n",
       "      <td>Zara Larsson</td>\n",
       "      <td>641</td>\n",
       "    </tr>\n",
       "    <tr>\n",
       "      <th>516</th>\n",
       "      <td>Ethel Cain</td>\n",
       "      <td>586</td>\n",
       "    </tr>\n",
       "    <tr>\n",
       "      <th>334</th>\n",
       "      <td>Clairo</td>\n",
       "      <td>584</td>\n",
       "    </tr>\n",
       "    <tr>\n",
       "      <th>1247</th>\n",
       "      <td>PinkPantheress</td>\n",
       "      <td>544</td>\n",
       "    </tr>\n",
       "  </tbody>\n",
       "</table>\n",
       "</div>"
      ],
      "text/plain": [
       "     master_metadata_album_artist_name  plays\n",
       "303                         Charli xcx    728\n",
       "1720                      Zara Larsson    641\n",
       "516                         Ethel Cain    586\n",
       "334                             Clairo    584\n",
       "1247                    PinkPantheress    544"
      ]
     },
     "execution_count": 135,
     "metadata": {},
     "output_type": "execute_result"
    }
   ],
   "source": [
    "most_played_artists = audio_2025_df.groupby([\"master_metadata_album_artist_name\"])[\"master_metadata_track_name\"]\\\n",
    "                         .count().reset_index(name=\"plays\").sort_values(\"plays\", ascending=False)\n",
    "print(most_played_artists[\"plays\"].sum())\n",
    "print(\"Most played artists: \")\n",
    "most_played_artists.head(5)"
   ]
  },
  {
   "cell_type": "code",
   "execution_count": 136,
   "id": "906b23ca",
   "metadata": {},
   "outputs": [
    {
     "name": "stdout",
     "output_type": "stream",
     "text": [
      "38921.6226\n",
      "Longest played artists: \n"
     ]
    },
    {
     "data": {
      "text/html": [
       "<div>\n",
       "<style scoped>\n",
       "    .dataframe tbody tr th:only-of-type {\n",
       "        vertical-align: middle;\n",
       "    }\n",
       "\n",
       "    .dataframe tbody tr th {\n",
       "        vertical-align: top;\n",
       "    }\n",
       "\n",
       "    .dataframe thead th {\n",
       "        text-align: right;\n",
       "    }\n",
       "</style>\n",
       "<table border=\"1\" class=\"dataframe\">\n",
       "  <thead>\n",
       "    <tr style=\"text-align: right;\">\n",
       "      <th></th>\n",
       "      <th>master_metadata_album_artist_name</th>\n",
       "      <th>minutes</th>\n",
       "    </tr>\n",
       "  </thead>\n",
       "  <tbody>\n",
       "    <tr>\n",
       "      <th>516</th>\n",
       "      <td>Ethel Cain</td>\n",
       "      <td>2103.026683</td>\n",
       "    </tr>\n",
       "    <tr>\n",
       "      <th>303</th>\n",
       "      <td>Charli xcx</td>\n",
       "      <td>1342.694650</td>\n",
       "    </tr>\n",
       "    <tr>\n",
       "      <th>334</th>\n",
       "      <td>Clairo</td>\n",
       "      <td>1245.126350</td>\n",
       "    </tr>\n",
       "    <tr>\n",
       "      <th>1720</th>\n",
       "      <td>Zara Larsson</td>\n",
       "      <td>1208.443650</td>\n",
       "    </tr>\n",
       "    <tr>\n",
       "      <th>1543</th>\n",
       "      <td>The Marías</td>\n",
       "      <td>1066.552733</td>\n",
       "    </tr>\n",
       "  </tbody>\n",
       "</table>\n",
       "</div>"
      ],
      "text/plain": [
       "     master_metadata_album_artist_name      minutes\n",
       "516                         Ethel Cain  2103.026683\n",
       "303                         Charli xcx  1342.694650\n",
       "334                             Clairo  1245.126350\n",
       "1720                      Zara Larsson  1208.443650\n",
       "1543                        The Marías  1066.552733"
      ]
     },
     "execution_count": 136,
     "metadata": {},
     "output_type": "execute_result"
    }
   ],
   "source": [
    "longest_played_artists = audio_2025_df.groupby([\"master_metadata_album_artist_name\"])[\"minutes\"]\\\n",
    "                         .sum().reset_index(name=\"minutes\").sort_values(\"minutes\", ascending=False)\n",
    "print(longest_played_artists[\"minutes\"].sum())\n",
    "print(\"Longest played artists: \")\n",
    "longest_played_artists.head(5)"
   ]
  },
  {
   "cell_type": "markdown",
   "id": "16c74c54",
   "metadata": {},
   "source": [
    "## All-Time Streaming"
   ]
  },
  {
   "cell_type": "markdown",
   "id": "78eb4c8b",
   "metadata": {},
   "source": []
  }
 ],
 "metadata": {
  "kernelspec": {
   "display_name": "base",
   "language": "python",
   "name": "python3"
  },
  "language_info": {
   "codemirror_mode": {
    "name": "ipython",
    "version": 3
   },
   "file_extension": ".py",
   "mimetype": "text/x-python",
   "name": "python",
   "nbconvert_exporter": "python",
   "pygments_lexer": "ipython3",
   "version": "3.8.3"
  }
 },
 "nbformat": 4,
 "nbformat_minor": 5
}
